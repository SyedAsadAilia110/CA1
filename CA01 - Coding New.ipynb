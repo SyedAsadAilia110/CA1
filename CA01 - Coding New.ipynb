{
 "cells": [
  {
   "cell_type": "markdown",
   "id": "8504a370",
   "metadata": {},
   "source": [
    "### Importing Libraries"
   ]
  },
  {
   "cell_type": "code",
   "execution_count": 1,
   "id": "14e0e5c3",
   "metadata": {},
   "outputs": [],
   "source": [
    "import numpy as np\n",
    "import pandas as pd\n",
    "import matplotlib.pyplot as plt\n",
    "import scipy.stats as sp\n",
    "import seaborn as sns\n",
    "from sklearn.preprocessing import StandardScaler\n",
    "from sklearn.model_selection import train_test_split\n",
    "from sklearn.linear_model import LinearRegression\n",
    "from sklearn.neighbors import KNeighborsRegressor\n",
    "from sklearn.metrics import mean_squared_error, r2_score"
   ]
  },
  {
   "cell_type": "markdown",
   "id": "ae307b5e",
   "metadata": {},
   "source": [
    "### Data Pre-processing"
   ]
  },
  {
   "cell_type": "markdown",
   "id": "2bf30042",
   "metadata": {},
   "source": [
    "Let us import our dataset using the pandas library and review the first ten rows to get a birds eye view on our data along with any potential null values"
   ]
  },
  {
   "cell_type": "code",
   "execution_count": 5,
   "id": "855e8c6d",
   "metadata": {},
   "outputs": [
    {
     "data": {
      "text/html": [
       "<div>\n",
       "<style scoped>\n",
       "    .dataframe tbody tr th:only-of-type {\n",
       "        vertical-align: middle;\n",
       "    }\n",
       "\n",
       "    .dataframe tbody tr th {\n",
       "        vertical-align: top;\n",
       "    }\n",
       "\n",
       "    .dataframe thead th {\n",
       "        text-align: right;\n",
       "    }\n",
       "</style>\n",
       "<table border=\"1\" class=\"dataframe\">\n",
       "  <thead>\n",
       "    <tr style=\"text-align: right;\">\n",
       "      <th></th>\n",
       "      <th>Statistic Label</th>\n",
       "      <th>Year</th>\n",
       "      <th>Full and Part Time Status</th>\n",
       "      <th>Economic Sector NACE Rev 2</th>\n",
       "      <th>UNIT</th>\n",
       "      <th>VALUE</th>\n",
       "    </tr>\n",
       "  </thead>\n",
       "  <tbody>\n",
       "    <tr>\n",
       "      <th>0</th>\n",
       "      <td>Mean earnings per hour</td>\n",
       "      <td>2022</td>\n",
       "      <td>All employment status</td>\n",
       "      <td>All NACE economic sectors</td>\n",
       "      <td>Euro</td>\n",
       "      <td>26.40</td>\n",
       "    </tr>\n",
       "    <tr>\n",
       "      <th>1</th>\n",
       "      <td>Mean earnings per hour</td>\n",
       "      <td>2022</td>\n",
       "      <td>All employment status</td>\n",
       "      <td>Construction (F)</td>\n",
       "      <td>Euro</td>\n",
       "      <td>22.60</td>\n",
       "    </tr>\n",
       "    <tr>\n",
       "      <th>2</th>\n",
       "      <td>Mean earnings per hour</td>\n",
       "      <td>2022</td>\n",
       "      <td>All employment status</td>\n",
       "      <td>Wholesale and retail trade; repair of motor ve...</td>\n",
       "      <td>Euro</td>\n",
       "      <td>20.63</td>\n",
       "    </tr>\n",
       "    <tr>\n",
       "      <th>3</th>\n",
       "      <td>Mean earnings per hour</td>\n",
       "      <td>2022</td>\n",
       "      <td>All employment status</td>\n",
       "      <td>Transportation and storage (H)</td>\n",
       "      <td>Euro</td>\n",
       "      <td>23.02</td>\n",
       "    </tr>\n",
       "    <tr>\n",
       "      <th>4</th>\n",
       "      <td>Mean earnings per hour</td>\n",
       "      <td>2022</td>\n",
       "      <td>All employment status</td>\n",
       "      <td>Accommodation and food service activities (I)</td>\n",
       "      <td>Euro</td>\n",
       "      <td>16.38</td>\n",
       "    </tr>\n",
       "    <tr>\n",
       "      <th>5</th>\n",
       "      <td>Mean earnings per hour</td>\n",
       "      <td>2022</td>\n",
       "      <td>All employment status</td>\n",
       "      <td>Information and communication (J)</td>\n",
       "      <td>Euro</td>\n",
       "      <td>42.44</td>\n",
       "    </tr>\n",
       "    <tr>\n",
       "      <th>6</th>\n",
       "      <td>Mean earnings per hour</td>\n",
       "      <td>2022</td>\n",
       "      <td>All employment status</td>\n",
       "      <td>Professional, scientific and technical activit...</td>\n",
       "      <td>Euro</td>\n",
       "      <td>30.72</td>\n",
       "    </tr>\n",
       "    <tr>\n",
       "      <th>7</th>\n",
       "      <td>Mean earnings per hour</td>\n",
       "      <td>2022</td>\n",
       "      <td>All employment status</td>\n",
       "      <td>Administrative and support service activities (N)</td>\n",
       "      <td>Euro</td>\n",
       "      <td>21.85</td>\n",
       "    </tr>\n",
       "    <tr>\n",
       "      <th>8</th>\n",
       "      <td>Mean earnings per hour</td>\n",
       "      <td>2022</td>\n",
       "      <td>All employment status</td>\n",
       "      <td>Public administration and defence; compulsory ...</td>\n",
       "      <td>Euro</td>\n",
       "      <td>28.32</td>\n",
       "    </tr>\n",
       "    <tr>\n",
       "      <th>9</th>\n",
       "      <td>Mean earnings per hour</td>\n",
       "      <td>2022</td>\n",
       "      <td>All employment status</td>\n",
       "      <td>Education (P)</td>\n",
       "      <td>Euro</td>\n",
       "      <td>35.91</td>\n",
       "    </tr>\n",
       "  </tbody>\n",
       "</table>\n",
       "</div>"
      ],
      "text/plain": [
       "          Statistic Label  Year Full and Part Time Status  \\\n",
       "0  Mean earnings per hour  2022     All employment status   \n",
       "1  Mean earnings per hour  2022     All employment status   \n",
       "2  Mean earnings per hour  2022     All employment status   \n",
       "3  Mean earnings per hour  2022     All employment status   \n",
       "4  Mean earnings per hour  2022     All employment status   \n",
       "5  Mean earnings per hour  2022     All employment status   \n",
       "6  Mean earnings per hour  2022     All employment status   \n",
       "7  Mean earnings per hour  2022     All employment status   \n",
       "8  Mean earnings per hour  2022     All employment status   \n",
       "9  Mean earnings per hour  2022     All employment status   \n",
       "\n",
       "                          Economic Sector NACE Rev 2  UNIT  VALUE  \n",
       "0                          All NACE economic sectors  Euro  26.40  \n",
       "1                                   Construction (F)  Euro  22.60  \n",
       "2  Wholesale and retail trade; repair of motor ve...  Euro  20.63  \n",
       "3                     Transportation and storage (H)  Euro  23.02  \n",
       "4      Accommodation and food service activities (I)  Euro  16.38  \n",
       "5                  Information and communication (J)  Euro  42.44  \n",
       "6  Professional, scientific and technical activit...  Euro  30.72  \n",
       "7  Administrative and support service activities (N)  Euro  21.85  \n",
       "8  Public administration and defence; compulsory ...  Euro  28.32  \n",
       "9                                      Education (P)  Euro  35.91  "
      ]
     },
     "execution_count": 5,
     "metadata": {},
     "output_type": "execute_result"
    }
   ],
   "source": [
    "data = pd.read_csv('CA01-Dataset.csv')\n",
    "data.head(10)"
   ]
  },
  {
   "cell_type": "code",
   "execution_count": 6,
   "id": "adba4160",
   "metadata": {},
   "outputs": [
    {
     "data": {
      "text/plain": [
       "Statistic Label               0\n",
       "Year                          0\n",
       "Full and Part Time Status     0\n",
       "Economic Sector NACE Rev 2    0\n",
       "UNIT                          0\n",
       "VALUE                         0\n",
       "dtype: int64"
      ]
     },
     "execution_count": 6,
     "metadata": {},
     "output_type": "execute_result"
    }
   ],
   "source": [
    "data.isna().sum()"
   ]
  },
  {
   "cell_type": "code",
   "execution_count": null,
   "id": "9e834071",
   "metadata": {},
   "outputs": [],
   "source": []
  }
 ],
 "metadata": {
  "celltoolbar": "Raw Cell Format",
  "kernelspec": {
   "display_name": "Python 3 (ipykernel)",
   "language": "python",
   "name": "python3"
  },
  "language_info": {
   "codemirror_mode": {
    "name": "ipython",
    "version": 3
   },
   "file_extension": ".py",
   "mimetype": "text/x-python",
   "name": "python",
   "nbconvert_exporter": "python",
   "pygments_lexer": "ipython3",
   "version": "3.11.4"
  }
 },
 "nbformat": 4,
 "nbformat_minor": 5
}
