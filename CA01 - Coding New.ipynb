{
 "cells": [
  {
   "cell_type": "markdown",
   "id": "8504a370",
   "metadata": {},
   "source": [
    "### Importing Libraries"
   ]
  },
  {
   "cell_type": "code",
   "execution_count": 1,
   "id": "14e0e5c3",
   "metadata": {},
   "outputs": [],
   "source": [
    "import numpy as np\n",
    "import pandas as pd\n",
    "import matplotlib.pyplot as plt\n",
    "import scipy.stats as sp\n",
    "import seaborn as sns\n",
    "from sklearn.preprocessing import StandardScaler\n",
    "from sklearn.model_selection import train_test_split\n",
    "from sklearn.linear_model import LinearRegression\n",
    "from sklearn.neighbors import KNeighborsRegressor\n",
    "from sklearn.metrics import mean_squared_error, r2_score"
   ]
  },
  {
   "cell_type": "markdown",
   "id": "ae307b5e",
   "metadata": {},
   "source": [
    "### Data Pre-processing"
   ]
  },
  {
   "cell_type": "markdown",
   "id": "2bf30042",
   "metadata": {},
   "source": [
    "Let us import our dataset using the pandas library and review the first ten rows to get a birds eye view on our data along with any potential null values"
   ]
  },
  {
   "cell_type": "code",
   "execution_count": 2,
   "id": "855e8c6d",
   "metadata": {},
   "outputs": [
    {
     "data": {
      "text/html": [
       "<div>\n",
       "<style scoped>\n",
       "    .dataframe tbody tr th:only-of-type {\n",
       "        vertical-align: middle;\n",
       "    }\n",
       "\n",
       "    .dataframe tbody tr th {\n",
       "        vertical-align: top;\n",
       "    }\n",
       "\n",
       "    .dataframe thead th {\n",
       "        text-align: right;\n",
       "    }\n",
       "</style>\n",
       "<table border=\"1\" class=\"dataframe\">\n",
       "  <thead>\n",
       "    <tr style=\"text-align: right;\">\n",
       "      <th></th>\n",
       "      <th>Statistic Label</th>\n",
       "      <th>Year</th>\n",
       "      <th>Full and Part Time Status</th>\n",
       "      <th>Economic Sector NACE Rev 2</th>\n",
       "      <th>UNIT</th>\n",
       "      <th>VALUE</th>\n",
       "    </tr>\n",
       "  </thead>\n",
       "  <tbody>\n",
       "    <tr>\n",
       "      <th>0</th>\n",
       "      <td>Mean earnings per hour</td>\n",
       "      <td>2022</td>\n",
       "      <td>All employment status</td>\n",
       "      <td>All NACE economic sectors</td>\n",
       "      <td>Euro</td>\n",
       "      <td>26.40</td>\n",
       "    </tr>\n",
       "    <tr>\n",
       "      <th>1</th>\n",
       "      <td>Mean earnings per hour</td>\n",
       "      <td>2022</td>\n",
       "      <td>All employment status</td>\n",
       "      <td>Construction (F)</td>\n",
       "      <td>Euro</td>\n",
       "      <td>22.60</td>\n",
       "    </tr>\n",
       "    <tr>\n",
       "      <th>2</th>\n",
       "      <td>Mean earnings per hour</td>\n",
       "      <td>2022</td>\n",
       "      <td>All employment status</td>\n",
       "      <td>Wholesale and retail trade; repair of motor ve...</td>\n",
       "      <td>Euro</td>\n",
       "      <td>20.63</td>\n",
       "    </tr>\n",
       "    <tr>\n",
       "      <th>3</th>\n",
       "      <td>Mean earnings per hour</td>\n",
       "      <td>2022</td>\n",
       "      <td>All employment status</td>\n",
       "      <td>Transportation and storage (H)</td>\n",
       "      <td>Euro</td>\n",
       "      <td>23.02</td>\n",
       "    </tr>\n",
       "    <tr>\n",
       "      <th>4</th>\n",
       "      <td>Mean earnings per hour</td>\n",
       "      <td>2022</td>\n",
       "      <td>All employment status</td>\n",
       "      <td>Accommodation and food service activities (I)</td>\n",
       "      <td>Euro</td>\n",
       "      <td>16.38</td>\n",
       "    </tr>\n",
       "    <tr>\n",
       "      <th>5</th>\n",
       "      <td>Mean earnings per hour</td>\n",
       "      <td>2022</td>\n",
       "      <td>All employment status</td>\n",
       "      <td>Information and communication (J)</td>\n",
       "      <td>Euro</td>\n",
       "      <td>42.44</td>\n",
       "    </tr>\n",
       "    <tr>\n",
       "      <th>6</th>\n",
       "      <td>Mean earnings per hour</td>\n",
       "      <td>2022</td>\n",
       "      <td>All employment status</td>\n",
       "      <td>Professional, scientific and technical activit...</td>\n",
       "      <td>Euro</td>\n",
       "      <td>30.72</td>\n",
       "    </tr>\n",
       "    <tr>\n",
       "      <th>7</th>\n",
       "      <td>Mean earnings per hour</td>\n",
       "      <td>2022</td>\n",
       "      <td>All employment status</td>\n",
       "      <td>Administrative and support service activities (N)</td>\n",
       "      <td>Euro</td>\n",
       "      <td>21.85</td>\n",
       "    </tr>\n",
       "    <tr>\n",
       "      <th>8</th>\n",
       "      <td>Mean earnings per hour</td>\n",
       "      <td>2022</td>\n",
       "      <td>All employment status</td>\n",
       "      <td>Public administration and defence; compulsory ...</td>\n",
       "      <td>Euro</td>\n",
       "      <td>28.32</td>\n",
       "    </tr>\n",
       "    <tr>\n",
       "      <th>9</th>\n",
       "      <td>Mean earnings per hour</td>\n",
       "      <td>2022</td>\n",
       "      <td>All employment status</td>\n",
       "      <td>Education (P)</td>\n",
       "      <td>Euro</td>\n",
       "      <td>35.91</td>\n",
       "    </tr>\n",
       "  </tbody>\n",
       "</table>\n",
       "</div>"
      ],
      "text/plain": [
       "          Statistic Label  Year Full and Part Time Status  \\\n",
       "0  Mean earnings per hour  2022     All employment status   \n",
       "1  Mean earnings per hour  2022     All employment status   \n",
       "2  Mean earnings per hour  2022     All employment status   \n",
       "3  Mean earnings per hour  2022     All employment status   \n",
       "4  Mean earnings per hour  2022     All employment status   \n",
       "5  Mean earnings per hour  2022     All employment status   \n",
       "6  Mean earnings per hour  2022     All employment status   \n",
       "7  Mean earnings per hour  2022     All employment status   \n",
       "8  Mean earnings per hour  2022     All employment status   \n",
       "9  Mean earnings per hour  2022     All employment status   \n",
       "\n",
       "                          Economic Sector NACE Rev 2  UNIT  VALUE  \n",
       "0                          All NACE economic sectors  Euro  26.40  \n",
       "1                                   Construction (F)  Euro  22.60  \n",
       "2  Wholesale and retail trade; repair of motor ve...  Euro  20.63  \n",
       "3                     Transportation and storage (H)  Euro  23.02  \n",
       "4      Accommodation and food service activities (I)  Euro  16.38  \n",
       "5                  Information and communication (J)  Euro  42.44  \n",
       "6  Professional, scientific and technical activit...  Euro  30.72  \n",
       "7  Administrative and support service activities (N)  Euro  21.85  \n",
       "8  Public administration and defence; compulsory ...  Euro  28.32  \n",
       "9                                      Education (P)  Euro  35.91  "
      ]
     },
     "execution_count": 2,
     "metadata": {},
     "output_type": "execute_result"
    }
   ],
   "source": [
    "data = pd.read_csv('CA01-Dataset.csv')\n",
    "data.head(10)"
   ]
  },
  {
   "cell_type": "code",
   "execution_count": 3,
   "id": "adba4160",
   "metadata": {},
   "outputs": [
    {
     "data": {
      "text/plain": [
       "Statistic Label               0\n",
       "Year                          0\n",
       "Full and Part Time Status     0\n",
       "Economic Sector NACE Rev 2    0\n",
       "UNIT                          0\n",
       "VALUE                         0\n",
       "dtype: int64"
      ]
     },
     "execution_count": 3,
     "metadata": {},
     "output_type": "execute_result"
    }
   ],
   "source": [
    "data.isna().sum()"
   ]
  },
  {
   "cell_type": "markdown",
   "id": "22c23f25",
   "metadata": {},
   "source": [
    "There are no null values present in our data so we will move to our analysis phase"
   ]
  },
  {
   "cell_type": "markdown",
   "id": "c0b537f3",
   "metadata": {},
   "source": [
    "### Statistics"
   ]
  },
  {
   "cell_type": "markdown",
   "id": "ddb9f4fa",
   "metadata": {},
   "source": [
    "We will explore the information for each column to check which questions we can ask for our statistical analysis"
   ]
  },
  {
   "cell_type": "code",
   "execution_count": 4,
   "id": "8ae88877",
   "metadata": {},
   "outputs": [
    {
     "data": {
      "text/html": [
       "<div>\n",
       "<style scoped>\n",
       "    .dataframe tbody tr th:only-of-type {\n",
       "        vertical-align: middle;\n",
       "    }\n",
       "\n",
       "    .dataframe tbody tr th {\n",
       "        vertical-align: top;\n",
       "    }\n",
       "\n",
       "    .dataframe thead th {\n",
       "        text-align: right;\n",
       "    }\n",
       "</style>\n",
       "<table border=\"1\" class=\"dataframe\">\n",
       "  <thead>\n",
       "    <tr style=\"text-align: right;\">\n",
       "      <th></th>\n",
       "      <th>Statistic Label</th>\n",
       "      <th>Full and Part Time Status</th>\n",
       "      <th>Economic Sector NACE Rev 2</th>\n",
       "      <th>UNIT</th>\n",
       "    </tr>\n",
       "  </thead>\n",
       "  <tbody>\n",
       "    <tr>\n",
       "      <th>count</th>\n",
       "      <td>168</td>\n",
       "      <td>168</td>\n",
       "      <td>168</td>\n",
       "      <td>168</td>\n",
       "    </tr>\n",
       "    <tr>\n",
       "      <th>unique</th>\n",
       "      <td>4</td>\n",
       "      <td>3</td>\n",
       "      <td>14</td>\n",
       "      <td>2</td>\n",
       "    </tr>\n",
       "    <tr>\n",
       "      <th>top</th>\n",
       "      <td>Mean earnings per hour</td>\n",
       "      <td>All employment status</td>\n",
       "      <td>All NACE economic sectors</td>\n",
       "      <td>Euro</td>\n",
       "    </tr>\n",
       "    <tr>\n",
       "      <th>freq</th>\n",
       "      <td>42</td>\n",
       "      <td>56</td>\n",
       "      <td>12</td>\n",
       "      <td>84</td>\n",
       "    </tr>\n",
       "  </tbody>\n",
       "</table>\n",
       "</div>"
      ],
      "text/plain": [
       "               Statistic Label Full and Part Time Status  \\\n",
       "count                      168                       168   \n",
       "unique                       4                         3   \n",
       "top     Mean earnings per hour     All employment status   \n",
       "freq                        42                        56   \n",
       "\n",
       "       Economic Sector NACE Rev 2  UNIT  \n",
       "count                         168   168  \n",
       "unique                         14     2  \n",
       "top     All NACE economic sectors  Euro  \n",
       "freq                           12    84  "
      ]
     },
     "execution_count": 4,
     "metadata": {},
     "output_type": "execute_result"
    }
   ],
   "source": [
    "data[['Statistic Label','Full and Part Time Status','Economic Sector NACE Rev 2','UNIT']].describe()"
   ]
  },
  {
   "cell_type": "markdown",
   "id": "26aa4446",
   "metadata": {},
   "source": [
    "The above table does not give us much idea about the dataset so we will check for unique values in each field except for VALUE which in continuous"
   ]
  },
  {
   "cell_type": "code",
   "execution_count": 5,
   "id": "74a02aec",
   "metadata": {},
   "outputs": [
    {
     "name": "stdout",
     "output_type": "stream",
     "text": [
      "Statistic Label \n",
      " ['Mean earnings per hour' 'Mean paid weekly hours'\n",
      " 'Median earnings per hour' 'Median paid weekly hours'] \n",
      "\n",
      "Year \n",
      " [2022] \n",
      "\n",
      "Full and Part Time Status \n",
      " ['All employment status' 'Full-time' 'Part-time'] \n",
      "\n",
      "Economic Sector NACE Rev 2 \n",
      " ['All NACE economic sectors' 'Construction (F)'\n",
      " 'Wholesale and retail trade; repair of motor vehicles and motorcycles (G)'\n",
      " 'Transportation and storage (H)'\n",
      " 'Accommodation and food service activities (I)'\n",
      " 'Information and communication (J)'\n",
      " 'Professional, scientific and technical activities (M)'\n",
      " 'Administrative and support service activities (N)'\n",
      " 'Public administration and defence; compulsory social security (O)'\n",
      " 'Education (P)' 'Human health and social work activities (Q)'\n",
      " 'Industry (B to E)'\n",
      " 'Financial, insurance and real estate activities (K,L)'\n",
      " 'Arts, entertainment, recreation and other service activities (R,S)'] \n",
      "\n",
      "UNIT \n",
      " ['Euro' 'Hours'] \n",
      "\n"
     ]
    }
   ],
   "source": [
    "data_1 = data.drop(columns=['VALUE'])\n",
    "\n",
    "for column in data_1.columns:\n",
    "    print(column,'\\n',data[column].unique(),'\\n')"
   ]
  },
  {
   "cell_type": "code",
   "execution_count": null,
   "id": "37b4b41c",
   "metadata": {},
   "outputs": [],
   "source": []
  }
 ],
 "metadata": {
  "celltoolbar": "Raw Cell Format",
  "kernelspec": {
   "display_name": "Python 3 (ipykernel)",
   "language": "python",
   "name": "python3"
  },
  "language_info": {
   "codemirror_mode": {
    "name": "ipython",
    "version": 3
   },
   "file_extension": ".py",
   "mimetype": "text/x-python",
   "name": "python",
   "nbconvert_exporter": "python",
   "pygments_lexer": "ipython3",
   "version": "3.11.4"
  }
 },
 "nbformat": 4,
 "nbformat_minor": 5
}
