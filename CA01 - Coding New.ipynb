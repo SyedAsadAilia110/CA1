{
 "cells": [
  {
   "cell_type": "markdown",
   "id": "8504a370",
   "metadata": {},
   "source": [
    "### \"Central Statistics Office SES-01 Dataset - (Mean and Median Earnings per hour and paid weekly hours)\""
   ]
  },
  {
   "cell_type": "markdown",
   "id": "2912d806",
   "metadata": {},
   "source": [
    "#### Import all Libraries for Required Project"
   ]
  },
  {
   "cell_type": "code",
   "execution_count": 27,
   "id": "14e0e5c3",
   "metadata": {},
   "outputs": [],
   "source": [
    "import numpy as np\n",
    "import pandas as pd\n",
    "import matplotlib.pyplot as plt\n",
    "import scipy.stats as sp\n",
    "import seaborn as sns\n",
    "from sklearn.preprocessing import StandardScaler\n",
    "from sklearn.model_selection import train_test_split\n",
    "from sklearn.linear_model import LinearRegression\n",
    "from sklearn.neighbors import KNeighborsRegressor\n",
    "from sklearn.metrics import mean_squared_error, r2_score"
   ]
  },
  {
   "cell_type": "markdown",
   "id": "ae307b5e",
   "metadata": {},
   "source": [
    "#### Data Pre-processing & Exploratory Data Analysis (EDA)"
   ]
  },
  {
   "cell_type": "markdown",
   "id": "2bf30042",
   "metadata": {},
   "source": [
    "Now that we have imported our dataset using the pandas library, let's examine the first 10 rows to gain a general understanding of our data as well as any possible null values."
   ]
  },
  {
   "cell_type": "code",
   "execution_count": 2,
   "id": "855e8c6d",
   "metadata": {},
   "outputs": [
    {
     "data": {
      "text/html": [
       "<div>\n",
       "<style scoped>\n",
       "    .dataframe tbody tr th:only-of-type {\n",
       "        vertical-align: middle;\n",
       "    }\n",
       "\n",
       "    .dataframe tbody tr th {\n",
       "        vertical-align: top;\n",
       "    }\n",
       "\n",
       "    .dataframe thead th {\n",
       "        text-align: right;\n",
       "    }\n",
       "</style>\n",
       "<table border=\"1\" class=\"dataframe\">\n",
       "  <thead>\n",
       "    <tr style=\"text-align: right;\">\n",
       "      <th></th>\n",
       "      <th>Statistic Label</th>\n",
       "      <th>Year</th>\n",
       "      <th>Full and Part Time Status</th>\n",
       "      <th>Economic Sector NACE Rev 2</th>\n",
       "      <th>UNIT</th>\n",
       "      <th>VALUE</th>\n",
       "    </tr>\n",
       "  </thead>\n",
       "  <tbody>\n",
       "    <tr>\n",
       "      <th>0</th>\n",
       "      <td>Mean earnings per hour</td>\n",
       "      <td>2022</td>\n",
       "      <td>All employment status</td>\n",
       "      <td>All NACE economic sectors</td>\n",
       "      <td>Euro</td>\n",
       "      <td>26.40</td>\n",
       "    </tr>\n",
       "    <tr>\n",
       "      <th>1</th>\n",
       "      <td>Mean earnings per hour</td>\n",
       "      <td>2022</td>\n",
       "      <td>All employment status</td>\n",
       "      <td>Construction (F)</td>\n",
       "      <td>Euro</td>\n",
       "      <td>22.60</td>\n",
       "    </tr>\n",
       "    <tr>\n",
       "      <th>2</th>\n",
       "      <td>Mean earnings per hour</td>\n",
       "      <td>2022</td>\n",
       "      <td>All employment status</td>\n",
       "      <td>Wholesale and retail trade; repair of motor ve...</td>\n",
       "      <td>Euro</td>\n",
       "      <td>20.63</td>\n",
       "    </tr>\n",
       "    <tr>\n",
       "      <th>3</th>\n",
       "      <td>Mean earnings per hour</td>\n",
       "      <td>2022</td>\n",
       "      <td>All employment status</td>\n",
       "      <td>Transportation and storage (H)</td>\n",
       "      <td>Euro</td>\n",
       "      <td>23.02</td>\n",
       "    </tr>\n",
       "    <tr>\n",
       "      <th>4</th>\n",
       "      <td>Mean earnings per hour</td>\n",
       "      <td>2022</td>\n",
       "      <td>All employment status</td>\n",
       "      <td>Accommodation and food service activities (I)</td>\n",
       "      <td>Euro</td>\n",
       "      <td>16.38</td>\n",
       "    </tr>\n",
       "    <tr>\n",
       "      <th>5</th>\n",
       "      <td>Mean earnings per hour</td>\n",
       "      <td>2022</td>\n",
       "      <td>All employment status</td>\n",
       "      <td>Information and communication (J)</td>\n",
       "      <td>Euro</td>\n",
       "      <td>42.44</td>\n",
       "    </tr>\n",
       "    <tr>\n",
       "      <th>6</th>\n",
       "      <td>Mean earnings per hour</td>\n",
       "      <td>2022</td>\n",
       "      <td>All employment status</td>\n",
       "      <td>Professional, scientific and technical activit...</td>\n",
       "      <td>Euro</td>\n",
       "      <td>30.72</td>\n",
       "    </tr>\n",
       "    <tr>\n",
       "      <th>7</th>\n",
       "      <td>Mean earnings per hour</td>\n",
       "      <td>2022</td>\n",
       "      <td>All employment status</td>\n",
       "      <td>Administrative and support service activities (N)</td>\n",
       "      <td>Euro</td>\n",
       "      <td>21.85</td>\n",
       "    </tr>\n",
       "    <tr>\n",
       "      <th>8</th>\n",
       "      <td>Mean earnings per hour</td>\n",
       "      <td>2022</td>\n",
       "      <td>All employment status</td>\n",
       "      <td>Public administration and defence; compulsory ...</td>\n",
       "      <td>Euro</td>\n",
       "      <td>28.32</td>\n",
       "    </tr>\n",
       "    <tr>\n",
       "      <th>9</th>\n",
       "      <td>Mean earnings per hour</td>\n",
       "      <td>2022</td>\n",
       "      <td>All employment status</td>\n",
       "      <td>Education (P)</td>\n",
       "      <td>Euro</td>\n",
       "      <td>35.91</td>\n",
       "    </tr>\n",
       "  </tbody>\n",
       "</table>\n",
       "</div>"
      ],
      "text/plain": [
       "          Statistic Label  Year Full and Part Time Status  \\\n",
       "0  Mean earnings per hour  2022     All employment status   \n",
       "1  Mean earnings per hour  2022     All employment status   \n",
       "2  Mean earnings per hour  2022     All employment status   \n",
       "3  Mean earnings per hour  2022     All employment status   \n",
       "4  Mean earnings per hour  2022     All employment status   \n",
       "5  Mean earnings per hour  2022     All employment status   \n",
       "6  Mean earnings per hour  2022     All employment status   \n",
       "7  Mean earnings per hour  2022     All employment status   \n",
       "8  Mean earnings per hour  2022     All employment status   \n",
       "9  Mean earnings per hour  2022     All employment status   \n",
       "\n",
       "                          Economic Sector NACE Rev 2  UNIT  VALUE  \n",
       "0                          All NACE economic sectors  Euro  26.40  \n",
       "1                                   Construction (F)  Euro  22.60  \n",
       "2  Wholesale and retail trade; repair of motor ve...  Euro  20.63  \n",
       "3                     Transportation and storage (H)  Euro  23.02  \n",
       "4      Accommodation and food service activities (I)  Euro  16.38  \n",
       "5                  Information and communication (J)  Euro  42.44  \n",
       "6  Professional, scientific and technical activit...  Euro  30.72  \n",
       "7  Administrative and support service activities (N)  Euro  21.85  \n",
       "8  Public administration and defence; compulsory ...  Euro  28.32  \n",
       "9                                      Education (P)  Euro  35.91  "
      ]
     },
     "execution_count": 2,
     "metadata": {},
     "output_type": "execute_result"
    }
   ],
   "source": [
    "data = pd.read_csv('CA01-Dataset.csv')\n",
    "data.head(10)"
   ]
  },
  {
   "cell_type": "markdown",
   "id": "0c780882",
   "metadata": {},
   "source": [
    "Now Importing the required libraries for EDA (Exploratory Data Analysis). This step is very important especially when we arrive at modelling the data to apply Machine learning. Plotting in EDA consists of Histograms, Box plot, Scatter plots and many more. Through the process of EDA, we can also refine the problem statement or definition of our problem."
   ]
  },
  {
   "cell_type": "code",
   "execution_count": 12,
   "id": "9f16b8b6",
   "metadata": {},
   "outputs": [
    {
     "data": {
      "text/plain": [
       "(168, 6)"
      ]
     },
     "execution_count": 12,
     "metadata": {},
     "output_type": "execute_result"
    }
   ],
   "source": [
    "data.shape"
   ]
  },
  {
   "cell_type": "code",
   "execution_count": 18,
   "id": "afa361ed",
   "metadata": {},
   "outputs": [
    {
     "data": {
      "text/html": [
       "<div>\n",
       "<style scoped>\n",
       "    .dataframe tbody tr th:only-of-type {\n",
       "        vertical-align: middle;\n",
       "    }\n",
       "\n",
       "    .dataframe tbody tr th {\n",
       "        vertical-align: top;\n",
       "    }\n",
       "\n",
       "    .dataframe thead th {\n",
       "        text-align: right;\n",
       "    }\n",
       "</style>\n",
       "<table border=\"1\" class=\"dataframe\">\n",
       "  <thead>\n",
       "    <tr style=\"text-align: right;\">\n",
       "      <th></th>\n",
       "      <th>Statistic Label</th>\n",
       "      <th>Year</th>\n",
       "      <th>Full and Part Time Status</th>\n",
       "      <th>Economic Sector NACE Rev 2</th>\n",
       "      <th>UNIT</th>\n",
       "      <th>VALUE</th>\n",
       "    </tr>\n",
       "  </thead>\n",
       "  <tbody>\n",
       "    <tr>\n",
       "      <th>0</th>\n",
       "      <td>Mean earnings per hour</td>\n",
       "      <td>2022</td>\n",
       "      <td>All employment status</td>\n",
       "      <td>All NACE economic sectors</td>\n",
       "      <td>Euro</td>\n",
       "      <td>26.40</td>\n",
       "    </tr>\n",
       "    <tr>\n",
       "      <th>1</th>\n",
       "      <td>Mean earnings per hour</td>\n",
       "      <td>2022</td>\n",
       "      <td>All employment status</td>\n",
       "      <td>Construction (F)</td>\n",
       "      <td>Euro</td>\n",
       "      <td>22.60</td>\n",
       "    </tr>\n",
       "    <tr>\n",
       "      <th>2</th>\n",
       "      <td>Mean earnings per hour</td>\n",
       "      <td>2022</td>\n",
       "      <td>All employment status</td>\n",
       "      <td>Wholesale and retail trade; repair of motor ve...</td>\n",
       "      <td>Euro</td>\n",
       "      <td>20.63</td>\n",
       "    </tr>\n",
       "    <tr>\n",
       "      <th>3</th>\n",
       "      <td>Mean earnings per hour</td>\n",
       "      <td>2022</td>\n",
       "      <td>All employment status</td>\n",
       "      <td>Transportation and storage (H)</td>\n",
       "      <td>Euro</td>\n",
       "      <td>23.02</td>\n",
       "    </tr>\n",
       "    <tr>\n",
       "      <th>4</th>\n",
       "      <td>Mean earnings per hour</td>\n",
       "      <td>2022</td>\n",
       "      <td>All employment status</td>\n",
       "      <td>Accommodation and food service activities (I)</td>\n",
       "      <td>Euro</td>\n",
       "      <td>16.38</td>\n",
       "    </tr>\n",
       "  </tbody>\n",
       "</table>\n",
       "</div>"
      ],
      "text/plain": [
       "          Statistic Label  Year Full and Part Time Status  \\\n",
       "0  Mean earnings per hour  2022     All employment status   \n",
       "1  Mean earnings per hour  2022     All employment status   \n",
       "2  Mean earnings per hour  2022     All employment status   \n",
       "3  Mean earnings per hour  2022     All employment status   \n",
       "4  Mean earnings per hour  2022     All employment status   \n",
       "\n",
       "                          Economic Sector NACE Rev 2  UNIT  VALUE  \n",
       "0                          All NACE economic sectors  Euro  26.40  \n",
       "1                                   Construction (F)  Euro  22.60  \n",
       "2  Wholesale and retail trade; repair of motor ve...  Euro  20.63  \n",
       "3                     Transportation and storage (H)  Euro  23.02  \n",
       "4      Accommodation and food service activities (I)  Euro  16.38  "
      ]
     },
     "execution_count": 18,
     "metadata": {},
     "output_type": "execute_result"
    }
   ],
   "source": [
    "data.head(5)"
   ]
  },
  {
   "cell_type": "code",
   "execution_count": 19,
   "id": "00394ff3",
   "metadata": {},
   "outputs": [
    {
     "data": {
      "text/html": [
       "<div>\n",
       "<style scoped>\n",
       "    .dataframe tbody tr th:only-of-type {\n",
       "        vertical-align: middle;\n",
       "    }\n",
       "\n",
       "    .dataframe tbody tr th {\n",
       "        vertical-align: top;\n",
       "    }\n",
       "\n",
       "    .dataframe thead th {\n",
       "        text-align: right;\n",
       "    }\n",
       "</style>\n",
       "<table border=\"1\" class=\"dataframe\">\n",
       "  <thead>\n",
       "    <tr style=\"text-align: right;\">\n",
       "      <th></th>\n",
       "      <th>Statistic Label</th>\n",
       "      <th>Year</th>\n",
       "      <th>Full and Part Time Status</th>\n",
       "      <th>Economic Sector NACE Rev 2</th>\n",
       "      <th>UNIT</th>\n",
       "      <th>VALUE</th>\n",
       "    </tr>\n",
       "  </thead>\n",
       "  <tbody>\n",
       "    <tr>\n",
       "      <th>163</th>\n",
       "      <td>Median paid weekly hours</td>\n",
       "      <td>2022</td>\n",
       "      <td>Part-time</td>\n",
       "      <td>Education (P)</td>\n",
       "      <td>Hours</td>\n",
       "      <td>16.8</td>\n",
       "    </tr>\n",
       "    <tr>\n",
       "      <th>164</th>\n",
       "      <td>Median paid weekly hours</td>\n",
       "      <td>2022</td>\n",
       "      <td>Part-time</td>\n",
       "      <td>Human health and social work activities (Q)</td>\n",
       "      <td>Hours</td>\n",
       "      <td>19.8</td>\n",
       "    </tr>\n",
       "    <tr>\n",
       "      <th>165</th>\n",
       "      <td>Median paid weekly hours</td>\n",
       "      <td>2022</td>\n",
       "      <td>Part-time</td>\n",
       "      <td>Industry (B to E)</td>\n",
       "      <td>Hours</td>\n",
       "      <td>20.5</td>\n",
       "    </tr>\n",
       "    <tr>\n",
       "      <th>166</th>\n",
       "      <td>Median paid weekly hours</td>\n",
       "      <td>2022</td>\n",
       "      <td>Part-time</td>\n",
       "      <td>Financial, insurance and real estate activitie...</td>\n",
       "      <td>Hours</td>\n",
       "      <td>19.8</td>\n",
       "    </tr>\n",
       "    <tr>\n",
       "      <th>167</th>\n",
       "      <td>Median paid weekly hours</td>\n",
       "      <td>2022</td>\n",
       "      <td>Part-time</td>\n",
       "      <td>Arts, entertainment, recreation and other serv...</td>\n",
       "      <td>Hours</td>\n",
       "      <td>19.3</td>\n",
       "    </tr>\n",
       "  </tbody>\n",
       "</table>\n",
       "</div>"
      ],
      "text/plain": [
       "              Statistic Label  Year Full and Part Time Status  \\\n",
       "163  Median paid weekly hours  2022                 Part-time   \n",
       "164  Median paid weekly hours  2022                 Part-time   \n",
       "165  Median paid weekly hours  2022                 Part-time   \n",
       "166  Median paid weekly hours  2022                 Part-time   \n",
       "167  Median paid weekly hours  2022                 Part-time   \n",
       "\n",
       "                            Economic Sector NACE Rev 2   UNIT  VALUE  \n",
       "163                                      Education (P)  Hours   16.8  \n",
       "164        Human health and social work activities (Q)  Hours   19.8  \n",
       "165                                  Industry (B to E)  Hours   20.5  \n",
       "166  Financial, insurance and real estate activitie...  Hours   19.8  \n",
       "167  Arts, entertainment, recreation and other serv...  Hours   19.3  "
      ]
     },
     "execution_count": 19,
     "metadata": {},
     "output_type": "execute_result"
    }
   ],
   "source": [
    "data.tail(5)"
   ]
  },
  {
   "cell_type": "code",
   "execution_count": 15,
   "id": "71431599",
   "metadata": {},
   "outputs": [
    {
     "data": {
      "text/plain": [
       "Statistic Label                object\n",
       "Year                            int64\n",
       "Full and Part Time Status      object\n",
       "Economic Sector NACE Rev 2     object\n",
       "UNIT                           object\n",
       "VALUE                         float64\n",
       "dtype: object"
      ]
     },
     "execution_count": 15,
     "metadata": {},
     "output_type": "execute_result"
    }
   ],
   "source": [
    "data.dtypes"
   ]
  },
  {
   "cell_type": "code",
   "execution_count": 21,
   "id": "1a15c8d6",
   "metadata": {},
   "outputs": [
    {
     "data": {
      "text/plain": [
       "<bound method DataFrame.count of               Statistic Label  Year Full and Part Time Status  \\\n",
       "0      Mean earnings per hour  2022     All employment status   \n",
       "1      Mean earnings per hour  2022     All employment status   \n",
       "2      Mean earnings per hour  2022     All employment status   \n",
       "3      Mean earnings per hour  2022     All employment status   \n",
       "4      Mean earnings per hour  2022     All employment status   \n",
       "..                        ...   ...                       ...   \n",
       "163  Median paid weekly hours  2022                 Part-time   \n",
       "164  Median paid weekly hours  2022                 Part-time   \n",
       "165  Median paid weekly hours  2022                 Part-time   \n",
       "166  Median paid weekly hours  2022                 Part-time   \n",
       "167  Median paid weekly hours  2022                 Part-time   \n",
       "\n",
       "                            Economic Sector NACE Rev 2   UNIT  VALUE  \n",
       "0                            All NACE economic sectors   Euro  26.40  \n",
       "1                                     Construction (F)   Euro  22.60  \n",
       "2    Wholesale and retail trade; repair of motor ve...   Euro  20.63  \n",
       "3                       Transportation and storage (H)   Euro  23.02  \n",
       "4        Accommodation and food service activities (I)   Euro  16.38  \n",
       "..                                                 ...    ...    ...  \n",
       "163                                      Education (P)  Hours  16.80  \n",
       "164        Human health and social work activities (Q)  Hours  19.80  \n",
       "165                                  Industry (B to E)  Hours  20.50  \n",
       "166  Financial, insurance and real estate activitie...  Hours  19.80  \n",
       "167  Arts, entertainment, recreation and other serv...  Hours  19.30  \n",
       "\n",
       "[168 rows x 6 columns]>"
      ]
     },
     "execution_count": 21,
     "metadata": {},
     "output_type": "execute_result"
    }
   ],
   "source": [
    "data.count"
   ]
  },
  {
   "cell_type": "code",
   "execution_count": 17,
   "id": "86e04a70",
   "metadata": {},
   "outputs": [
    {
     "name": "stdout",
     "output_type": "stream",
     "text": [
      "              Statistic Label  Year Full and Part Time Status  \\\n",
      "0      Mean earnings per hour  2022     All employment status   \n",
      "1      Mean earnings per hour  2022     All employment status   \n",
      "2      Mean earnings per hour  2022     All employment status   \n",
      "3      Mean earnings per hour  2022     All employment status   \n",
      "4      Mean earnings per hour  2022     All employment status   \n",
      "..                        ...   ...                       ...   \n",
      "163  Median paid weekly hours  2022                 Part-time   \n",
      "164  Median paid weekly hours  2022                 Part-time   \n",
      "165  Median paid weekly hours  2022                 Part-time   \n",
      "166  Median paid weekly hours  2022                 Part-time   \n",
      "167  Median paid weekly hours  2022                 Part-time   \n",
      "\n",
      "                            Economic Sector NACE Rev 2   UNIT  VALUE  \n",
      "0                            All NACE economic sectors   Euro  26.40  \n",
      "1                                     Construction (F)   Euro  22.60  \n",
      "2    Wholesale and retail trade; repair of motor ve...   Euro  20.63  \n",
      "3                       Transportation and storage (H)   Euro  23.02  \n",
      "4        Accommodation and food service activities (I)   Euro  16.38  \n",
      "..                                                 ...    ...    ...  \n",
      "163                                      Education (P)  Hours  16.80  \n",
      "164        Human health and social work activities (Q)  Hours  19.80  \n",
      "165                                  Industry (B to E)  Hours  20.50  \n",
      "166  Financial, insurance and real estate activitie...  Hours  19.80  \n",
      "167  Arts, entertainment, recreation and other serv...  Hours  19.30  \n",
      "\n",
      "[168 rows x 6 columns]\n"
     ]
    }
   ],
   "source": [
    "print(data)"
   ]
  },
  {
   "cell_type": "code",
   "execution_count": 3,
   "id": "adba4160",
   "metadata": {},
   "outputs": [
    {
     "data": {
      "text/plain": [
       "Statistic Label               0\n",
       "Year                          0\n",
       "Full and Part Time Status     0\n",
       "Economic Sector NACE Rev 2    0\n",
       "UNIT                          0\n",
       "VALUE                         0\n",
       "dtype: int64"
      ]
     },
     "execution_count": 3,
     "metadata": {},
     "output_type": "execute_result"
    }
   ],
   "source": [
    "data.isna().sum()"
   ]
  },
  {
   "cell_type": "markdown",
   "id": "22c23f25",
   "metadata": {},
   "source": [
    "Since our data contains no null values, we may proceed to the analysis stage."
   ]
  },
  {
   "cell_type": "markdown",
   "id": "c0b537f3",
   "metadata": {},
   "source": [
    "#### Statistics About Dataset"
   ]
  },
  {
   "cell_type": "markdown",
   "id": "ddb9f4fa",
   "metadata": {},
   "source": [
    "We will examine the data in each column to determine the appropriate questions to pose for our statistical analysis"
   ]
  },
  {
   "cell_type": "code",
   "execution_count": 4,
   "id": "8ae88877",
   "metadata": {},
   "outputs": [
    {
     "data": {
      "text/html": [
       "<div>\n",
       "<style scoped>\n",
       "    .dataframe tbody tr th:only-of-type {\n",
       "        vertical-align: middle;\n",
       "    }\n",
       "\n",
       "    .dataframe tbody tr th {\n",
       "        vertical-align: top;\n",
       "    }\n",
       "\n",
       "    .dataframe thead th {\n",
       "        text-align: right;\n",
       "    }\n",
       "</style>\n",
       "<table border=\"1\" class=\"dataframe\">\n",
       "  <thead>\n",
       "    <tr style=\"text-align: right;\">\n",
       "      <th></th>\n",
       "      <th>Statistic Label</th>\n",
       "      <th>Full and Part Time Status</th>\n",
       "      <th>Economic Sector NACE Rev 2</th>\n",
       "      <th>UNIT</th>\n",
       "    </tr>\n",
       "  </thead>\n",
       "  <tbody>\n",
       "    <tr>\n",
       "      <th>count</th>\n",
       "      <td>168</td>\n",
       "      <td>168</td>\n",
       "      <td>168</td>\n",
       "      <td>168</td>\n",
       "    </tr>\n",
       "    <tr>\n",
       "      <th>unique</th>\n",
       "      <td>4</td>\n",
       "      <td>3</td>\n",
       "      <td>14</td>\n",
       "      <td>2</td>\n",
       "    </tr>\n",
       "    <tr>\n",
       "      <th>top</th>\n",
       "      <td>Mean earnings per hour</td>\n",
       "      <td>All employment status</td>\n",
       "      <td>All NACE economic sectors</td>\n",
       "      <td>Euro</td>\n",
       "    </tr>\n",
       "    <tr>\n",
       "      <th>freq</th>\n",
       "      <td>42</td>\n",
       "      <td>56</td>\n",
       "      <td>12</td>\n",
       "      <td>84</td>\n",
       "    </tr>\n",
       "  </tbody>\n",
       "</table>\n",
       "</div>"
      ],
      "text/plain": [
       "               Statistic Label Full and Part Time Status  \\\n",
       "count                      168                       168   \n",
       "unique                       4                         3   \n",
       "top     Mean earnings per hour     All employment status   \n",
       "freq                        42                        56   \n",
       "\n",
       "       Economic Sector NACE Rev 2  UNIT  \n",
       "count                         168   168  \n",
       "unique                         14     2  \n",
       "top     All NACE economic sectors  Euro  \n",
       "freq                           12    84  "
      ]
     },
     "execution_count": 4,
     "metadata": {},
     "output_type": "execute_result"
    }
   ],
   "source": [
    "data[['Statistic Label','Full and Part Time Status','Economic Sector NACE Rev 2','UNIT']].describe()"
   ]
  },
  {
   "cell_type": "markdown",
   "id": "26aa4446",
   "metadata": {},
   "source": [
    "We will search for unique values in each field, with the exception of VALUE, which is continuous, given the aforementioned table does not provide us with much information about the dataset."
   ]
  },
  {
   "cell_type": "code",
   "execution_count": 5,
   "id": "74a02aec",
   "metadata": {},
   "outputs": [
    {
     "name": "stdout",
     "output_type": "stream",
     "text": [
      "Statistic Label \n",
      " ['Mean earnings per hour' 'Mean paid weekly hours'\n",
      " 'Median earnings per hour' 'Median paid weekly hours'] \n",
      "\n",
      "Year \n",
      " [2022] \n",
      "\n",
      "Full and Part Time Status \n",
      " ['All employment status' 'Full-time' 'Part-time'] \n",
      "\n",
      "Economic Sector NACE Rev 2 \n",
      " ['All NACE economic sectors' 'Construction (F)'\n",
      " 'Wholesale and retail trade; repair of motor vehicles and motorcycles (G)'\n",
      " 'Transportation and storage (H)'\n",
      " 'Accommodation and food service activities (I)'\n",
      " 'Information and communication (J)'\n",
      " 'Professional, scientific and technical activities (M)'\n",
      " 'Administrative and support service activities (N)'\n",
      " 'Public administration and defence; compulsory social security (O)'\n",
      " 'Education (P)' 'Human health and social work activities (Q)'\n",
      " 'Industry (B to E)'\n",
      " 'Financial, insurance and real estate activities (K,L)'\n",
      " 'Arts, entertainment, recreation and other service activities (R,S)'] \n",
      "\n",
      "UNIT \n",
      " ['Euro' 'Hours'] \n",
      "\n"
     ]
    }
   ],
   "source": [
    "data_1 = data.drop(columns=['VALUE'])\n",
    "\n",
    "for column in data_1.columns:\n",
    "    print(column,'\\n',data[column].unique(),'\\n')"
   ]
  },
  {
   "cell_type": "code",
   "execution_count": 6,
   "id": "37b4b41c",
   "metadata": {},
   "outputs": [
    {
     "name": "stdout",
     "output_type": "stream",
     "text": [
      "Unit Euro is for statistic label ['Mean earnings per hour' 'Median earnings per hour']\n",
      "Unit Hours is for statistic label ['Mean paid weekly hours' 'Median paid weekly hours']\n"
     ]
    }
   ],
   "source": [
    "print('Unit Euro is for statistic label',data_1[data_1['UNIT'] == 'Euro']['Statistic Label'].unique())\n",
    "print('Unit Hours is for statistic label',data_1[data_1['UNIT'] == 'Hours']['Statistic Label'].unique())"
   ]
  },
  {
   "cell_type": "markdown",
   "id": "14f7107e",
   "metadata": {},
   "source": [
    "There are two Units described for each statistic label"
   ]
  },
  {
   "cell_type": "markdown",
   "id": "dce5f3b7",
   "metadata": {},
   "source": [
    "To get better statistics, we will plot normal distribution for each statistic label correspond to the full and part time status"
   ]
  },
  {
   "cell_type": "code",
   "execution_count": 8,
   "id": "7535a597",
   "metadata": {},
   "outputs": [
    {
     "data": {
      "text/html": [
       "<div>\n",
       "<style scoped>\n",
       "    .dataframe tbody tr th:only-of-type {\n",
       "        vertical-align: middle;\n",
       "    }\n",
       "\n",
       "    .dataframe tbody tr th {\n",
       "        vertical-align: top;\n",
       "    }\n",
       "\n",
       "    .dataframe thead th {\n",
       "        text-align: right;\n",
       "    }\n",
       "</style>\n",
       "<table border=\"1\" class=\"dataframe\">\n",
       "  <thead>\n",
       "    <tr style=\"text-align: right;\">\n",
       "      <th></th>\n",
       "      <th>Statistic Label</th>\n",
       "      <th>Full and Part Time Status</th>\n",
       "      <th>VALUE</th>\n",
       "    </tr>\n",
       "  </thead>\n",
       "  <tbody>\n",
       "    <tr>\n",
       "      <th>0</th>\n",
       "      <td>Mean earnings per hour</td>\n",
       "      <td>All employment status</td>\n",
       "      <td>26.40</td>\n",
       "    </tr>\n",
       "    <tr>\n",
       "      <th>1</th>\n",
       "      <td>Mean earnings per hour</td>\n",
       "      <td>All employment status</td>\n",
       "      <td>22.60</td>\n",
       "    </tr>\n",
       "    <tr>\n",
       "      <th>2</th>\n",
       "      <td>Mean earnings per hour</td>\n",
       "      <td>All employment status</td>\n",
       "      <td>20.63</td>\n",
       "    </tr>\n",
       "    <tr>\n",
       "      <th>3</th>\n",
       "      <td>Mean earnings per hour</td>\n",
       "      <td>All employment status</td>\n",
       "      <td>23.02</td>\n",
       "    </tr>\n",
       "    <tr>\n",
       "      <th>4</th>\n",
       "      <td>Mean earnings per hour</td>\n",
       "      <td>All employment status</td>\n",
       "      <td>16.38</td>\n",
       "    </tr>\n",
       "    <tr>\n",
       "      <th>...</th>\n",
       "      <td>...</td>\n",
       "      <td>...</td>\n",
       "      <td>...</td>\n",
       "    </tr>\n",
       "    <tr>\n",
       "      <th>163</th>\n",
       "      <td>Median paid weekly hours</td>\n",
       "      <td>Part-time</td>\n",
       "      <td>16.80</td>\n",
       "    </tr>\n",
       "    <tr>\n",
       "      <th>164</th>\n",
       "      <td>Median paid weekly hours</td>\n",
       "      <td>Part-time</td>\n",
       "      <td>19.80</td>\n",
       "    </tr>\n",
       "    <tr>\n",
       "      <th>165</th>\n",
       "      <td>Median paid weekly hours</td>\n",
       "      <td>Part-time</td>\n",
       "      <td>20.50</td>\n",
       "    </tr>\n",
       "    <tr>\n",
       "      <th>166</th>\n",
       "      <td>Median paid weekly hours</td>\n",
       "      <td>Part-time</td>\n",
       "      <td>19.80</td>\n",
       "    </tr>\n",
       "    <tr>\n",
       "      <th>167</th>\n",
       "      <td>Median paid weekly hours</td>\n",
       "      <td>Part-time</td>\n",
       "      <td>19.30</td>\n",
       "    </tr>\n",
       "  </tbody>\n",
       "</table>\n",
       "<p>168 rows × 3 columns</p>\n",
       "</div>"
      ],
      "text/plain": [
       "              Statistic Label Full and Part Time Status  VALUE\n",
       "0      Mean earnings per hour     All employment status  26.40\n",
       "1      Mean earnings per hour     All employment status  22.60\n",
       "2      Mean earnings per hour     All employment status  20.63\n",
       "3      Mean earnings per hour     All employment status  23.02\n",
       "4      Mean earnings per hour     All employment status  16.38\n",
       "..                        ...                       ...    ...\n",
       "163  Median paid weekly hours                 Part-time  16.80\n",
       "164  Median paid weekly hours                 Part-time  19.80\n",
       "165  Median paid weekly hours                 Part-time  20.50\n",
       "166  Median paid weekly hours                 Part-time  19.80\n",
       "167  Median paid weekly hours                 Part-time  19.30\n",
       "\n",
       "[168 rows x 3 columns]"
      ]
     },
     "execution_count": 8,
     "metadata": {},
     "output_type": "execute_result"
    }
   ],
   "source": [
    "data_2 = data[['Statistic Label','Full and Part Time Status','VALUE']]\n",
    "data_2"
   ]
  },
  {
   "cell_type": "code",
   "execution_count": 9,
   "id": "64f5f168",
   "metadata": {},
   "outputs": [
    {
     "data": {
      "image/png": "[encoded data removed]",
      "text/plain": [
       "<Figure size 1200x800 with 4 Axes>"
      ]
     },
     "metadata": {},
     "output_type": "display_data"
    }
   ],
   "source": [
    "# Filter the DataFrame for the four unique combinations of 'Statistic Label'\n",
    "unique_stat_labels = data_2['Statistic Label'].unique()\n",
    "# Create subplots\n",
    "fig, axes = plt.subplots(2, 2, figsize=(12, 8))\n",
    "fig.suptitle('Normal Distribution of Values by Statistic Label')\n",
    "\n",
    "for i, label in enumerate(unique_stat_labels):\n",
    "    row, col = divmod(i, 2)\n",
    "    ax = axes[row, col]\n",
    "    \n",
    "    data_filtered = data_2[data_2['Statistic Label'] == label]['VALUE']\n",
    "    # Calculate the mean and standard deviation for the component's data\n",
    "    mean_value = np.mean(data_filtered)\n",
    "    std_value = np.std(data_filtered)\n",
    "\n",
    "    # Create the frozen normal distribution\n",
    "    pdf = sp.norm(loc=mean_value, scale=std_value)\n",
    "\n",
    "    # Generate values for the x-axis\n",
    "    x = np.linspace(mean_value - 3 * std_value, mean_value + 3 * std_value, 100)\n",
    "\n",
    "    # Calculate the PDF for the component's data\n",
    "    pdf_values = pdf.pdf(x)\n",
    "\n",
    "    # Plot the PDF in the current subplot\n",
    "    ax = axes[row, col]\n",
    "    ax.plot(x, pdf_values, lw=2, label='PDF')\n",
    "    ax.set_title(label)\n",
    "    ax.set_xlabel('VALUE')\n",
    "    ax.set_ylabel('Frequency')\n",
    "\n",
    "plt.tight_layout()\n",
    "plt.subplots_adjust(top=0.9)\n",
    "plt.show()"
   ]
  },
  {
   "cell_type": "markdown",
   "id": "0b9abfb7",
   "metadata": {},
   "source": [
    "This normal distribution gives us a better outlook of how per hour earning is spread of individuals with weekly hour worked for that amount. Now we will move forward towards our further Exploratory Data Analysis"
   ]
  },
  {
   "cell_type": "code",
   "execution_count": 22,
   "id": "0cadb523",
   "metadata": {},
   "outputs": [
    {
     "name": "stdout",
     "output_type": "stream",
     "text": [
      "[ 4.23671599  4.77628209  5.3158482   5.8554143   6.3949804   6.93454651\n",
      "  7.47411261  8.01367871  8.55324481  9.09281092  9.63237702 10.17194312\n",
      " 10.71150923 11.25107533 11.79064143 12.33020754 12.86977364 13.40933974\n",
      " 13.94890585 14.48847195 15.02803805 15.56760416 16.10717026 16.64673636\n",
      " 17.18630247 17.72586857 18.26543467 18.80500077 19.34456688 19.88413298\n",
      " 20.42369908 20.96326519 21.50283129 22.04239739 22.5819635  23.1215296\n",
      " 23.6610957  24.20066181 24.74022791 25.27979401 25.81936012 26.35892622\n",
      " 26.89849232 27.43805842 27.97762453 28.51719063 29.05675673 29.59632284\n",
      " 30.13588894 30.67545504 31.21502115 31.75458725 32.29415335 32.83371946\n",
      " 33.37328556 33.91285166 34.45241777 34.99198387 35.53154997 36.07111608\n",
      " 36.61068218 37.15024828 37.68981438 38.22938049 38.76894659 39.30851269\n",
      " 39.8480788  40.3876449  40.927211   41.46677711 42.00634321 42.54590931\n",
      " 43.08547542 43.62504152 44.16460762 44.70417373 45.24373983 45.78330593\n",
      " 46.32287203 46.86243814 47.40200424 47.94157034 48.48113645 49.02070255\n",
      " 49.56026865 50.09983476 50.63940086 51.17896696 51.71853307 52.25809917\n",
      " 52.79766527 53.33723138 53.87679748 54.41636358 54.95592969 55.49549579\n",
      " 56.03506189 56.57462799 57.1141941  57.6537602 ]\n"
     ]
    }
   ],
   "source": [
    "print(x)"
   ]
  },
  {
   "cell_type": "code",
   "execution_count": 24,
   "id": "d16a6ed8",
   "metadata": {},
   "outputs": [
    {
     "name": "stdout",
     "output_type": "stream",
     "text": [
      "Axes(0.553757,0.0728472;0.428294x0.36551)\n"
     ]
    }
   ],
   "source": [
    "print(ax)"
   ]
  },
  {
   "cell_type": "code",
   "execution_count": null,
   "id": "a7430a8a",
   "metadata": {},
   "outputs": [],
   "source": []
  }
 ],
 "metadata": {
  "celltoolbar": "Raw Cell Format",
  "kernelspec": {
   "display_name": "Python 3 (ipykernel)",
   "language": "python",
   "name": "python3"
  },
  "language_info": {
   "codemirror_mode": {
    "name": "ipython",
    "version": 3
   },
   "file_extension": ".py",
   "mimetype": "text/x-python",
   "name": "python",
   "nbconvert_exporter": "python",
   "pygments_lexer": "ipython3",
   "version": "3.11.4"
  }
 },
 "nbformat": 4,
 "nbformat_minor": 5
}
